{
 "cells": [
  {
   "cell_type": "markdown",
   "metadata": {},
   "source": [
    "Instituto Tecnológico de Costa Rica<br>\n",
    "Escuela de Ingeniería en Electrónica<br>\n",
    "Maestría en Electrónica con énfasis en Sistemas Embebidos<br>\n",
    "Curso: Reconocimiento de Patrones - II Cuatrimestre 2019<br>\n",
    "Profesor: MSc.Felipe Meza<br>\n",
    "Estudiante: José Pablo Vernavá Amador (Carnet 200307876)<br>"
   ]
  },
  {
   "cell_type": "markdown",
   "metadata": {},
   "source": [
    "# Investigación Corta 1"
   ]
  },
  {
   "cell_type": "markdown",
   "metadata": {},
   "source": [
    "## Parte 1: Tutorial de *pandas* para el pre-procesado de datos"
   ]
  },
  {
   "cell_type": "markdown",
   "metadata": {},
   "source": [
    "*pandas* (Python Data Analysis Library) es una biblioteca de Python para el análisis de datos. \n",
    "\n",
    "Es una biblioteca de código abierto y se puede usar de forma gratuita. \n",
    "\n",
    "Fue escrita originalmente por Wes McKinney.\n",
    "\n",
    "Esta biblioteca provee estructuras de datos de alto rendimiento y fáciles de usar.\n",
    "\n",
    "El poder de *pandas* radica en que es capaz de leer datos y crear un objeto de Python con filas y columnas, que es una forma más intuitiva de trabajar con un set de datos, comparado con una lista o diccionario.\n",
    "\n",
    "*pandas* puede leer datos provenientes de un archivo CSV o TSV, o de una base de datos SQL."
   ]
  },
  {
   "cell_type": "markdown",
   "metadata": {},
   "source": [
    "Para el pre-procesado de datos utilizando *pandas*, debemos iniciar con importar la biblioteca.  La convención es que *pandas* normalmente se importa bajo el nombre  <code class=\"markup--code markup--p-code\">pd</code>: "
   ]
  },
  {
   "cell_type": "code",
   "execution_count": 1,
   "metadata": {},
   "outputs": [],
   "source": [
    "import pandas as pd"
   ]
  },
  {
   "cell_type": "markdown",
   "metadata": {},
   "source": [
    "Los datos a ser pre-procesados en *pandas* normalmente se almacenan en una estructura de datos de tipo **DataFrame**, que es una estructura de dos dimensiones (filas y columnas) que transforma los datos en una tabla.\n",
    "\n",
    "En mi caso, soy aficionado al baloncesto, y justo ahorita se está jugando la final de la NBA entre los Golden State Warriors y los Toronto Raptors.  Entonces voy a hacer el tutorial utilizando un [set de datos de los jugadores de la NBA entre los años 1950 y 2017](https://www.kaggle.com/drgilermo/nba-players-stats/downloads/nba-players-stats.zip/2#Seasons_Stats.csv) que encontré en Kaggle.\n",
    "\n",
    "El primer paso es cargar los datos almacenados en un archivo .csv en un DataFrame:\n",
    "\n"
   ]
  },
  {
   "cell_type": "code",
   "execution_count": 2,
   "metadata": {},
   "outputs": [],
   "source": [
    "df=pd.read_csv('NBA_Seasons_Stats_1950_to_2017.csv')"
   ]
  },
  {
   "cell_type": "markdown",
   "metadata": {},
   "source": [
    "Una vez con los datos cargados, podemos obtener cuantas filas y columnas hay en el set de datos:"
   ]
  },
  {
   "cell_type": "code",
   "execution_count": 3,
   "metadata": {},
   "outputs": [
    {
     "data": {
      "text/plain": [
       "(24691, 53)"
      ]
     },
     "execution_count": 3,
     "metadata": {},
     "output_type": "execute_result"
    }
   ],
   "source": [
    "df.shape"
   ]
  },
  {
   "cell_type": "markdown",
   "metadata": {},
   "source": [
    "Podemos ver que hay 24691 filas y 53 columnas en la tabla.  Para ver que columnas existen:"
   ]
  },
  {
   "cell_type": "code",
   "execution_count": 4,
   "metadata": {},
   "outputs": [
    {
     "data": {
      "text/plain": [
       "Index(['Unnamed: 0', 'Year', 'Player', 'Pos', 'Age', 'Tm', 'G', 'GS', 'MP',\n",
       "       'PER', 'TS%', '3PAr', 'FTr', 'ORB%', 'DRB%', 'TRB%', 'AST%', 'STL%',\n",
       "       'BLK%', 'TOV%', 'USG%', 'blanl', 'OWS', 'DWS', 'WS', 'WS/48', 'blank2',\n",
       "       'OBPM', 'DBPM', 'BPM', 'VORP', 'FG', 'FGA', 'FG%', '3P', '3PA', '3P%',\n",
       "       '2P', '2PA', '2P%', 'eFG%', 'FT', 'FTA', 'FT%', 'ORB', 'DRB', 'TRB',\n",
       "       'AST', 'STL', 'BLK', 'TOV', 'PF', 'PTS'],\n",
       "      dtype='object')"
      ]
     },
     "execution_count": 4,
     "metadata": {},
     "output_type": "execute_result"
    }
   ],
   "source": [
    "df.columns"
   ]
  },
  {
   "cell_type": "markdown",
   "metadata": {},
   "source": [
    "No todas las columnas son de mi interés. Además, podemos ver como se ve nuestra tabla, utilizando el comando <code class=\"markup--code markup--p-code\">head</code> que nos muestra la parte inicial (las primeras 5 filas) de la tabla:"
   ]
  },
  {
   "cell_type": "code",
   "execution_count": 5,
   "metadata": {
    "scrolled": true
   },
   "outputs": [
    {
     "data": {
      "text/html": [
       "<div>\n",
       "<style scoped>\n",
       "    .dataframe tbody tr th:only-of-type {\n",
       "        vertical-align: middle;\n",
       "    }\n",
       "\n",
       "    .dataframe tbody tr th {\n",
       "        vertical-align: top;\n",
       "    }\n",
       "\n",
       "    .dataframe thead th {\n",
       "        text-align: right;\n",
       "    }\n",
       "</style>\n",
       "<table border=\"1\" class=\"dataframe\">\n",
       "  <thead>\n",
       "    <tr style=\"text-align: right;\">\n",
       "      <th></th>\n",
       "      <th>Unnamed: 0</th>\n",
       "      <th>Year</th>\n",
       "      <th>Player</th>\n",
       "      <th>Pos</th>\n",
       "      <th>Age</th>\n",
       "      <th>Tm</th>\n",
       "      <th>G</th>\n",
       "      <th>GS</th>\n",
       "      <th>MP</th>\n",
       "      <th>PER</th>\n",
       "      <th>...</th>\n",
       "      <th>FT%</th>\n",
       "      <th>ORB</th>\n",
       "      <th>DRB</th>\n",
       "      <th>TRB</th>\n",
       "      <th>AST</th>\n",
       "      <th>STL</th>\n",
       "      <th>BLK</th>\n",
       "      <th>TOV</th>\n",
       "      <th>PF</th>\n",
       "      <th>PTS</th>\n",
       "    </tr>\n",
       "  </thead>\n",
       "  <tbody>\n",
       "    <tr>\n",
       "      <th>0</th>\n",
       "      <td>0</td>\n",
       "      <td>1950.0</td>\n",
       "      <td>Curly Armstrong</td>\n",
       "      <td>G-F</td>\n",
       "      <td>31.0</td>\n",
       "      <td>FTW</td>\n",
       "      <td>63.0</td>\n",
       "      <td>NaN</td>\n",
       "      <td>NaN</td>\n",
       "      <td>NaN</td>\n",
       "      <td>...</td>\n",
       "      <td>0.705</td>\n",
       "      <td>NaN</td>\n",
       "      <td>NaN</td>\n",
       "      <td>NaN</td>\n",
       "      <td>176.0</td>\n",
       "      <td>NaN</td>\n",
       "      <td>NaN</td>\n",
       "      <td>NaN</td>\n",
       "      <td>217.0</td>\n",
       "      <td>458.0</td>\n",
       "    </tr>\n",
       "    <tr>\n",
       "      <th>1</th>\n",
       "      <td>1</td>\n",
       "      <td>1950.0</td>\n",
       "      <td>Cliff Barker</td>\n",
       "      <td>SG</td>\n",
       "      <td>29.0</td>\n",
       "      <td>INO</td>\n",
       "      <td>49.0</td>\n",
       "      <td>NaN</td>\n",
       "      <td>NaN</td>\n",
       "      <td>NaN</td>\n",
       "      <td>...</td>\n",
       "      <td>0.708</td>\n",
       "      <td>NaN</td>\n",
       "      <td>NaN</td>\n",
       "      <td>NaN</td>\n",
       "      <td>109.0</td>\n",
       "      <td>NaN</td>\n",
       "      <td>NaN</td>\n",
       "      <td>NaN</td>\n",
       "      <td>99.0</td>\n",
       "      <td>279.0</td>\n",
       "    </tr>\n",
       "    <tr>\n",
       "      <th>2</th>\n",
       "      <td>2</td>\n",
       "      <td>1950.0</td>\n",
       "      <td>Leo Barnhorst</td>\n",
       "      <td>SF</td>\n",
       "      <td>25.0</td>\n",
       "      <td>CHS</td>\n",
       "      <td>67.0</td>\n",
       "      <td>NaN</td>\n",
       "      <td>NaN</td>\n",
       "      <td>NaN</td>\n",
       "      <td>...</td>\n",
       "      <td>0.698</td>\n",
       "      <td>NaN</td>\n",
       "      <td>NaN</td>\n",
       "      <td>NaN</td>\n",
       "      <td>140.0</td>\n",
       "      <td>NaN</td>\n",
       "      <td>NaN</td>\n",
       "      <td>NaN</td>\n",
       "      <td>192.0</td>\n",
       "      <td>438.0</td>\n",
       "    </tr>\n",
       "    <tr>\n",
       "      <th>3</th>\n",
       "      <td>3</td>\n",
       "      <td>1950.0</td>\n",
       "      <td>Ed Bartels</td>\n",
       "      <td>F</td>\n",
       "      <td>24.0</td>\n",
       "      <td>TOT</td>\n",
       "      <td>15.0</td>\n",
       "      <td>NaN</td>\n",
       "      <td>NaN</td>\n",
       "      <td>NaN</td>\n",
       "      <td>...</td>\n",
       "      <td>0.559</td>\n",
       "      <td>NaN</td>\n",
       "      <td>NaN</td>\n",
       "      <td>NaN</td>\n",
       "      <td>20.0</td>\n",
       "      <td>NaN</td>\n",
       "      <td>NaN</td>\n",
       "      <td>NaN</td>\n",
       "      <td>29.0</td>\n",
       "      <td>63.0</td>\n",
       "    </tr>\n",
       "    <tr>\n",
       "      <th>4</th>\n",
       "      <td>4</td>\n",
       "      <td>1950.0</td>\n",
       "      <td>Ed Bartels</td>\n",
       "      <td>F</td>\n",
       "      <td>24.0</td>\n",
       "      <td>DNN</td>\n",
       "      <td>13.0</td>\n",
       "      <td>NaN</td>\n",
       "      <td>NaN</td>\n",
       "      <td>NaN</td>\n",
       "      <td>...</td>\n",
       "      <td>0.548</td>\n",
       "      <td>NaN</td>\n",
       "      <td>NaN</td>\n",
       "      <td>NaN</td>\n",
       "      <td>20.0</td>\n",
       "      <td>NaN</td>\n",
       "      <td>NaN</td>\n",
       "      <td>NaN</td>\n",
       "      <td>27.0</td>\n",
       "      <td>59.0</td>\n",
       "    </tr>\n",
       "  </tbody>\n",
       "</table>\n",
       "<p>5 rows × 53 columns</p>\n",
       "</div>"
      ],
      "text/plain": [
       "   Unnamed: 0    Year           Player  Pos   Age   Tm     G  GS  MP  PER  \\\n",
       "0           0  1950.0  Curly Armstrong  G-F  31.0  FTW  63.0 NaN NaN  NaN   \n",
       "1           1  1950.0     Cliff Barker   SG  29.0  INO  49.0 NaN NaN  NaN   \n",
       "2           2  1950.0    Leo Barnhorst   SF  25.0  CHS  67.0 NaN NaN  NaN   \n",
       "3           3  1950.0       Ed Bartels    F  24.0  TOT  15.0 NaN NaN  NaN   \n",
       "4           4  1950.0       Ed Bartels    F  24.0  DNN  13.0 NaN NaN  NaN   \n",
       "\n",
       "   ...    FT%  ORB  DRB  TRB    AST  STL  BLK  TOV     PF    PTS  \n",
       "0  ...  0.705  NaN  NaN  NaN  176.0  NaN  NaN  NaN  217.0  458.0  \n",
       "1  ...  0.708  NaN  NaN  NaN  109.0  NaN  NaN  NaN   99.0  279.0  \n",
       "2  ...  0.698  NaN  NaN  NaN  140.0  NaN  NaN  NaN  192.0  438.0  \n",
       "3  ...  0.559  NaN  NaN  NaN   20.0  NaN  NaN  NaN   29.0   63.0  \n",
       "4  ...  0.548  NaN  NaN  NaN   20.0  NaN  NaN  NaN   27.0   59.0  \n",
       "\n",
       "[5 rows x 53 columns]"
      ]
     },
     "execution_count": 5,
     "metadata": {},
     "output_type": "execute_result"
    }
   ],
   "source": [
    "df.head()"
   ]
  },
  {
   "cell_type": "markdown",
   "metadata": {},
   "source": [
    "En su contraparte, el comando <code class=\"markup--code markup--p-code\">tail</code> nos muestra las ultimas 5 filas de la tabla:"
   ]
  },
  {
   "cell_type": "code",
   "execution_count": 6,
   "metadata": {},
   "outputs": [
    {
     "data": {
      "text/html": [
       "<div>\n",
       "<style scoped>\n",
       "    .dataframe tbody tr th:only-of-type {\n",
       "        vertical-align: middle;\n",
       "    }\n",
       "\n",
       "    .dataframe tbody tr th {\n",
       "        vertical-align: top;\n",
       "    }\n",
       "\n",
       "    .dataframe thead th {\n",
       "        text-align: right;\n",
       "    }\n",
       "</style>\n",
       "<table border=\"1\" class=\"dataframe\">\n",
       "  <thead>\n",
       "    <tr style=\"text-align: right;\">\n",
       "      <th></th>\n",
       "      <th>Unnamed: 0</th>\n",
       "      <th>Year</th>\n",
       "      <th>Player</th>\n",
       "      <th>Pos</th>\n",
       "      <th>Age</th>\n",
       "      <th>Tm</th>\n",
       "      <th>G</th>\n",
       "      <th>GS</th>\n",
       "      <th>MP</th>\n",
       "      <th>PER</th>\n",
       "      <th>...</th>\n",
       "      <th>FT%</th>\n",
       "      <th>ORB</th>\n",
       "      <th>DRB</th>\n",
       "      <th>TRB</th>\n",
       "      <th>AST</th>\n",
       "      <th>STL</th>\n",
       "      <th>BLK</th>\n",
       "      <th>TOV</th>\n",
       "      <th>PF</th>\n",
       "      <th>PTS</th>\n",
       "    </tr>\n",
       "  </thead>\n",
       "  <tbody>\n",
       "    <tr>\n",
       "      <th>24686</th>\n",
       "      <td>24686</td>\n",
       "      <td>2017.0</td>\n",
       "      <td>Cody Zeller</td>\n",
       "      <td>PF</td>\n",
       "      <td>24.0</td>\n",
       "      <td>CHO</td>\n",
       "      <td>62.0</td>\n",
       "      <td>58.0</td>\n",
       "      <td>1725.0</td>\n",
       "      <td>16.7</td>\n",
       "      <td>...</td>\n",
       "      <td>0.679</td>\n",
       "      <td>135.0</td>\n",
       "      <td>270.0</td>\n",
       "      <td>405.0</td>\n",
       "      <td>99.0</td>\n",
       "      <td>62.0</td>\n",
       "      <td>58.0</td>\n",
       "      <td>65.0</td>\n",
       "      <td>189.0</td>\n",
       "      <td>639.0</td>\n",
       "    </tr>\n",
       "    <tr>\n",
       "      <th>24687</th>\n",
       "      <td>24687</td>\n",
       "      <td>2017.0</td>\n",
       "      <td>Tyler Zeller</td>\n",
       "      <td>C</td>\n",
       "      <td>27.0</td>\n",
       "      <td>BOS</td>\n",
       "      <td>51.0</td>\n",
       "      <td>5.0</td>\n",
       "      <td>525.0</td>\n",
       "      <td>13.0</td>\n",
       "      <td>...</td>\n",
       "      <td>0.564</td>\n",
       "      <td>43.0</td>\n",
       "      <td>81.0</td>\n",
       "      <td>124.0</td>\n",
       "      <td>42.0</td>\n",
       "      <td>7.0</td>\n",
       "      <td>21.0</td>\n",
       "      <td>20.0</td>\n",
       "      <td>61.0</td>\n",
       "      <td>178.0</td>\n",
       "    </tr>\n",
       "    <tr>\n",
       "      <th>24688</th>\n",
       "      <td>24688</td>\n",
       "      <td>2017.0</td>\n",
       "      <td>Stephen Zimmerman</td>\n",
       "      <td>C</td>\n",
       "      <td>20.0</td>\n",
       "      <td>ORL</td>\n",
       "      <td>19.0</td>\n",
       "      <td>0.0</td>\n",
       "      <td>108.0</td>\n",
       "      <td>7.3</td>\n",
       "      <td>...</td>\n",
       "      <td>0.600</td>\n",
       "      <td>11.0</td>\n",
       "      <td>24.0</td>\n",
       "      <td>35.0</td>\n",
       "      <td>4.0</td>\n",
       "      <td>2.0</td>\n",
       "      <td>5.0</td>\n",
       "      <td>3.0</td>\n",
       "      <td>17.0</td>\n",
       "      <td>23.0</td>\n",
       "    </tr>\n",
       "    <tr>\n",
       "      <th>24689</th>\n",
       "      <td>24689</td>\n",
       "      <td>2017.0</td>\n",
       "      <td>Paul Zipser</td>\n",
       "      <td>SF</td>\n",
       "      <td>22.0</td>\n",
       "      <td>CHI</td>\n",
       "      <td>44.0</td>\n",
       "      <td>18.0</td>\n",
       "      <td>843.0</td>\n",
       "      <td>6.9</td>\n",
       "      <td>...</td>\n",
       "      <td>0.775</td>\n",
       "      <td>15.0</td>\n",
       "      <td>110.0</td>\n",
       "      <td>125.0</td>\n",
       "      <td>36.0</td>\n",
       "      <td>15.0</td>\n",
       "      <td>16.0</td>\n",
       "      <td>40.0</td>\n",
       "      <td>78.0</td>\n",
       "      <td>240.0</td>\n",
       "    </tr>\n",
       "    <tr>\n",
       "      <th>24690</th>\n",
       "      <td>24690</td>\n",
       "      <td>2017.0</td>\n",
       "      <td>Ivica Zubac</td>\n",
       "      <td>C</td>\n",
       "      <td>19.0</td>\n",
       "      <td>LAL</td>\n",
       "      <td>38.0</td>\n",
       "      <td>11.0</td>\n",
       "      <td>609.0</td>\n",
       "      <td>17.0</td>\n",
       "      <td>...</td>\n",
       "      <td>0.653</td>\n",
       "      <td>41.0</td>\n",
       "      <td>118.0</td>\n",
       "      <td>159.0</td>\n",
       "      <td>30.0</td>\n",
       "      <td>14.0</td>\n",
       "      <td>33.0</td>\n",
       "      <td>30.0</td>\n",
       "      <td>66.0</td>\n",
       "      <td>284.0</td>\n",
       "    </tr>\n",
       "  </tbody>\n",
       "</table>\n",
       "<p>5 rows × 53 columns</p>\n",
       "</div>"
      ],
      "text/plain": [
       "       Unnamed: 0    Year             Player Pos   Age   Tm     G    GS  \\\n",
       "24686       24686  2017.0        Cody Zeller  PF  24.0  CHO  62.0  58.0   \n",
       "24687       24687  2017.0       Tyler Zeller   C  27.0  BOS  51.0   5.0   \n",
       "24688       24688  2017.0  Stephen Zimmerman   C  20.0  ORL  19.0   0.0   \n",
       "24689       24689  2017.0        Paul Zipser  SF  22.0  CHI  44.0  18.0   \n",
       "24690       24690  2017.0        Ivica Zubac   C  19.0  LAL  38.0  11.0   \n",
       "\n",
       "           MP   PER  ...    FT%    ORB    DRB    TRB   AST   STL   BLK   TOV  \\\n",
       "24686  1725.0  16.7  ...  0.679  135.0  270.0  405.0  99.0  62.0  58.0  65.0   \n",
       "24687   525.0  13.0  ...  0.564   43.0   81.0  124.0  42.0   7.0  21.0  20.0   \n",
       "24688   108.0   7.3  ...  0.600   11.0   24.0   35.0   4.0   2.0   5.0   3.0   \n",
       "24689   843.0   6.9  ...  0.775   15.0  110.0  125.0  36.0  15.0  16.0  40.0   \n",
       "24690   609.0  17.0  ...  0.653   41.0  118.0  159.0  30.0  14.0  33.0  30.0   \n",
       "\n",
       "          PF    PTS  \n",
       "24686  189.0  639.0  \n",
       "24687   61.0  178.0  \n",
       "24688   17.0   23.0  \n",
       "24689   78.0  240.0  \n",
       "24690   66.0  284.0  \n",
       "\n",
       "[5 rows x 53 columns]"
      ]
     },
     "execution_count": 6,
     "metadata": {},
     "output_type": "execute_result"
    }
   ],
   "source": [
    "df.tail()"
   ]
  },
  {
   "cell_type": "markdown",
   "metadata": {},
   "source": [
    "Si queremos ver todo el set de datos, se usa el nombre del DataFrame donde se guardaron los datos."
   ]
  },
  {
   "cell_type": "markdown",
   "metadata": {},
   "source": [
    "Se puede observar que en los primeros años no se contabilizaban muchas de las estadísticas que se llevan actualmente, dado los *NaN* en varias de las columnas del primer año."
   ]
  },
  {
   "cell_type": "markdown",
   "metadata": {},
   "source": [
    "\n",
    "Las columnas que me importan van a ser las siguientes:\n",
    "- Year\n",
    "- Player\n",
    "- Position\n",
    "- Age\n",
    "- Team\n",
    "- Games\n",
    "- Points\n",
    "- Assists\n",
    "- Rebounds\n"
   ]
  },
  {
   "cell_type": "markdown",
   "metadata": {},
   "source": [
    "Entonces voy a remover las columnas extra por medio del comando <code class=\"markup--code markup--p-code\">drop</code>:"
   ]
  },
  {
   "cell_type": "code",
   "execution_count": 7,
   "metadata": {},
   "outputs": [],
   "source": [
    "df=df.drop(['Unnamed: 0', 'Tm', 'GS', 'MP',\n",
    "       'PER', 'TS%', '3PAr', 'FTr', 'ORB%', 'DRB%', 'TRB%', 'AST%', 'STL%',\n",
    "       'BLK%', 'TOV%', 'USG%', 'blanl', 'OWS', 'DWS', 'WS', 'WS/48', 'blank2',\n",
    "       'OBPM', 'DBPM', 'BPM', 'VORP', 'FG', 'FGA', 'FG%', '3P', '3PA', '3P%',\n",
    "       '2P', '2PA', '2P%', 'eFG%', 'FT', 'FTA', 'FT%', 'ORB', 'DRB', 'STL', 'BLK', 'TOV', 'PF'],axis=1)"
   ]
  },
  {
   "cell_type": "markdown",
   "metadata": {},
   "source": [
    "Para verificar que funcionó:"
   ]
  },
  {
   "cell_type": "code",
   "execution_count": 8,
   "metadata": {},
   "outputs": [
    {
     "data": {
      "text/plain": [
       "Index(['Year', 'Player', 'Pos', 'Age', 'G', 'TRB', 'AST', 'PTS'], dtype='object')"
      ]
     },
     "execution_count": 8,
     "metadata": {},
     "output_type": "execute_result"
    }
   ],
   "source": [
    "df.columns"
   ]
  },
  {
   "cell_type": "markdown",
   "metadata": {},
   "source": [
    "Para renombrar las columnas:"
   ]
  },
  {
   "cell_type": "code",
   "execution_count": 9,
   "metadata": {},
   "outputs": [],
   "source": [
    "df.columns=['Year','Player','Position','Age','Games','Rebounds','Assists','Points']"
   ]
  },
  {
   "cell_type": "raw",
   "metadata": {},
   "source": [
    "Para reordenar las columnas:"
   ]
  },
  {
   "cell_type": "code",
   "execution_count": 10,
   "metadata": {},
   "outputs": [],
   "source": [
    "df=df[['Year','Player','Age','Position','Games','Points','Rebounds','Assists']]"
   ]
  },
  {
   "cell_type": "markdown",
   "metadata": {},
   "source": [
    "Para ver cuantos valores \"NaN\" hay en cada columna:"
   ]
  },
  {
   "cell_type": "code",
   "execution_count": 11,
   "metadata": {},
   "outputs": [
    {
     "data": {
      "text/plain": [
       "Year         67\n",
       "Player       67\n",
       "Age          75\n",
       "Position     67\n",
       "Games        67\n",
       "Points       67\n",
       "Rebounds    379\n",
       "Assists      67\n",
       "dtype: int64"
      ]
     },
     "execution_count": 11,
     "metadata": {},
     "output_type": "execute_result"
    }
   ],
   "source": [
    "df.isna().sum()"
   ]
  },
  {
   "cell_type": "markdown",
   "metadata": {},
   "source": [
    "Observando el archivo \"NBA_Seasons_Stats_1950_to_2017.csv\", entre cada año hay una fila en blanco, y el archivo contiene datos para 67 años (desde 1950 hasta 2017). Voy a proceder a remover esas filas en donde la columna \"Year\" esté en blanco:"
   ]
  },
  {
   "cell_type": "code",
   "execution_count": 12,
   "metadata": {},
   "outputs": [],
   "source": [
    "df=df.dropna(axis=0,subset=['Year'])"
   ]
  },
  {
   "cell_type": "code",
   "execution_count": 13,
   "metadata": {},
   "outputs": [
    {
     "data": {
      "text/plain": [
       "Year          0\n",
       "Player        0\n",
       "Age           8\n",
       "Position      0\n",
       "Games         0\n",
       "Points        0\n",
       "Rebounds    312\n",
       "Assists       0\n",
       "dtype: int64"
      ]
     },
     "execution_count": 13,
     "metadata": {},
     "output_type": "execute_result"
    }
   ],
   "source": [
    "df.isna().sum()"
   ]
  },
  {
   "cell_type": "markdown",
   "metadata": {},
   "source": [
    "Ahora voy a remover las filas donde exista \"NaN\" en las columnas de \"Age\" y \"Rebounds\", para así obtener un set de datos limpio:"
   ]
  },
  {
   "cell_type": "code",
   "execution_count": 14,
   "metadata": {},
   "outputs": [],
   "source": [
    "df=df.dropna(axis=0,subset=['Age'])\n",
    "df=df.dropna(axis=0,subset=['Rebounds'])"
   ]
  },
  {
   "cell_type": "markdown",
   "metadata": {},
   "source": [
    "Para ver los tipos de datos de las columnas se usa el comando <code class=\"markup--code markup--p-code\">dtypes</code>:"
   ]
  },
  {
   "cell_type": "code",
   "execution_count": 15,
   "metadata": {},
   "outputs": [
    {
     "data": {
      "text/plain": [
       "Year        float64\n",
       "Player       object\n",
       "Age         float64\n",
       "Position     object\n",
       "Games       float64\n",
       "Points      float64\n",
       "Rebounds    float64\n",
       "Assists     float64\n",
       "dtype: object"
      ]
     },
     "execution_count": 15,
     "metadata": {},
     "output_type": "execute_result"
    }
   ],
   "source": [
    "df.dtypes"
   ]
  },
  {
   "cell_type": "markdown",
   "metadata": {},
   "source": [
    "El tipo de dato \"object\" de *pandas* se usa para designar los datos con texto.  Todos los valores numéricos de la tabla los voy a tratar como enteros, ya que ninguno de los datos posee decimales, entonces para convertir el tipo de dato de una columna:"
   ]
  },
  {
   "cell_type": "code",
   "execution_count": 16,
   "metadata": {},
   "outputs": [
    {
     "data": {
      "text/plain": [
       "Year         int64\n",
       "Player      object\n",
       "Age          int64\n",
       "Position    object\n",
       "Games        int64\n",
       "Points       int64\n",
       "Rebounds     int64\n",
       "Assists      int64\n",
       "dtype: object"
      ]
     },
     "execution_count": 16,
     "metadata": {},
     "output_type": "execute_result"
    }
   ],
   "source": [
    "df['Year']=df['Year'].astype('int')\n",
    "df['Age']=df['Age'].astype('int')\n",
    "df['Games']=df['Games'].astype('int')\n",
    "df['Points']=df['Points'].astype('int')\n",
    "df['Rebounds']=df['Rebounds'].astype('int')\n",
    "df['Assists']=df['Assists'].astype('int')\n",
    "df.dtypes"
   ]
  },
  {
   "cell_type": "markdown",
   "metadata": {},
   "source": [
    "Otro comando útil para el pre-procesado de datos, es el comando <code class=\"markup--code markup--p-code\">describe</code>, que calcula valores estadísticos para las columnas numéricas:"
   ]
  },
  {
   "cell_type": "code",
   "execution_count": 17,
   "metadata": {},
   "outputs": [
    {
     "data": {
      "text/html": [
       "<div>\n",
       "<style scoped>\n",
       "    .dataframe tbody tr th:only-of-type {\n",
       "        vertical-align: middle;\n",
       "    }\n",
       "\n",
       "    .dataframe tbody tr th {\n",
       "        vertical-align: top;\n",
       "    }\n",
       "\n",
       "    .dataframe thead th {\n",
       "        text-align: right;\n",
       "    }\n",
       "</style>\n",
       "<table border=\"1\" class=\"dataframe\">\n",
       "  <thead>\n",
       "    <tr style=\"text-align: right;\">\n",
       "      <th></th>\n",
       "      <th>Year</th>\n",
       "      <th>Age</th>\n",
       "      <th>Games</th>\n",
       "      <th>Points</th>\n",
       "      <th>Rebounds</th>\n",
       "      <th>Assists</th>\n",
       "    </tr>\n",
       "  </thead>\n",
       "  <tbody>\n",
       "    <tr>\n",
       "      <th>count</th>\n",
       "      <td>24304.000000</td>\n",
       "      <td>24304.000000</td>\n",
       "      <td>24304.000000</td>\n",
       "      <td>24304.000000</td>\n",
       "      <td>24304.000000</td>\n",
       "      <td>24304.000000</td>\n",
       "    </tr>\n",
       "    <tr>\n",
       "      <th>mean</th>\n",
       "      <td>1993.154049</td>\n",
       "      <td>26.671248</td>\n",
       "      <td>50.949803</td>\n",
       "      <td>512.544849</td>\n",
       "      <td>224.702642</td>\n",
       "      <td>115.310072</td>\n",
       "    </tr>\n",
       "    <tr>\n",
       "      <th>std</th>\n",
       "      <td>16.844271</td>\n",
       "      <td>3.851208</td>\n",
       "      <td>26.528771</td>\n",
       "      <td>494.560161</td>\n",
       "      <td>228.199009</td>\n",
       "      <td>136.462545</td>\n",
       "    </tr>\n",
       "    <tr>\n",
       "      <th>min</th>\n",
       "      <td>1951.000000</td>\n",
       "      <td>18.000000</td>\n",
       "      <td>1.000000</td>\n",
       "      <td>0.000000</td>\n",
       "      <td>0.000000</td>\n",
       "      <td>0.000000</td>\n",
       "    </tr>\n",
       "    <tr>\n",
       "      <th>25%</th>\n",
       "      <td>1981.000000</td>\n",
       "      <td>24.000000</td>\n",
       "      <td>27.000000</td>\n",
       "      <td>106.750000</td>\n",
       "      <td>51.000000</td>\n",
       "      <td>19.000000</td>\n",
       "    </tr>\n",
       "    <tr>\n",
       "      <th>50%</th>\n",
       "      <td>1996.000000</td>\n",
       "      <td>26.000000</td>\n",
       "      <td>58.000000</td>\n",
       "      <td>368.000000</td>\n",
       "      <td>159.000000</td>\n",
       "      <td>68.000000</td>\n",
       "    </tr>\n",
       "    <tr>\n",
       "      <th>75%</th>\n",
       "      <td>2007.000000</td>\n",
       "      <td>29.000000</td>\n",
       "      <td>76.000000</td>\n",
       "      <td>782.000000</td>\n",
       "      <td>322.000000</td>\n",
       "      <td>161.000000</td>\n",
       "    </tr>\n",
       "    <tr>\n",
       "      <th>max</th>\n",
       "      <td>2017.000000</td>\n",
       "      <td>44.000000</td>\n",
       "      <td>88.000000</td>\n",
       "      <td>4029.000000</td>\n",
       "      <td>2149.000000</td>\n",
       "      <td>1164.000000</td>\n",
       "    </tr>\n",
       "  </tbody>\n",
       "</table>\n",
       "</div>"
      ],
      "text/plain": [
       "               Year           Age         Games        Points      Rebounds  \\\n",
       "count  24304.000000  24304.000000  24304.000000  24304.000000  24304.000000   \n",
       "mean    1993.154049     26.671248     50.949803    512.544849    224.702642   \n",
       "std       16.844271      3.851208     26.528771    494.560161    228.199009   \n",
       "min     1951.000000     18.000000      1.000000      0.000000      0.000000   \n",
       "25%     1981.000000     24.000000     27.000000    106.750000     51.000000   \n",
       "50%     1996.000000     26.000000     58.000000    368.000000    159.000000   \n",
       "75%     2007.000000     29.000000     76.000000    782.000000    322.000000   \n",
       "max     2017.000000     44.000000     88.000000   4029.000000   2149.000000   \n",
       "\n",
       "            Assists  \n",
       "count  24304.000000  \n",
       "mean     115.310072  \n",
       "std      136.462545  \n",
       "min        0.000000  \n",
       "25%       19.000000  \n",
       "50%       68.000000  \n",
       "75%      161.000000  \n",
       "max     1164.000000  "
      ]
     },
     "execution_count": 17,
     "metadata": {},
     "output_type": "execute_result"
    }
   ],
   "source": [
    "df.describe()"
   ]
  },
  {
   "cell_type": "markdown",
   "metadata": {},
   "source": [
    "Se observa, por ejemplo, que el máximo número de puntos anotados en una temporada por un jugador corresponde a 4029. El dueño de dicho [récord](https://en.wikipedia.org/wiki/List_of_National_Basketball_Association_annual_scoring_leaders) es Wilt Chamberlain en la temporada 1961-62."
   ]
  },
  {
   "cell_type": "markdown",
   "metadata": {},
   "source": [
    "Esta misma información la podemos obtener del DataFrame utilizando el comando <code class=\"markup--code markup--p-code\">idmax</code>, que retorna el índice de la fila con el valor máximo de la columna especificada, junto con el comando <code class=\"markup--code markup--p-code\">loc</code> para obtener toda la fila correspondiente:"
   ]
  },
  {
   "cell_type": "code",
   "execution_count": 18,
   "metadata": {},
   "outputs": [
    {
     "data": {
      "text/plain": [
       "Year                     1962\n",
       "Player      Wilt Chamberlain*\n",
       "Age                        25\n",
       "Position                    C\n",
       "Games                      80\n",
       "Points                   4029\n",
       "Rebounds                 2052\n",
       "Assists                   192\n",
       "Name: 1706, dtype: object"
      ]
     },
     "execution_count": 18,
     "metadata": {},
     "output_type": "execute_result"
    }
   ],
   "source": [
    "df.loc[df['Points'].idxmax(),:]"
   ]
  },
  {
   "cell_type": "markdown",
   "metadata": {},
   "source": [
    "Continuemos ahora con el análisis exploratorio de los datos."
   ]
  },
  {
   "cell_type": "markdown",
   "metadata": {},
   "source": [
    "## Parte 2: Análisis exploratorio de los datos"
   ]
  },
  {
   "cell_type": "markdown",
   "metadata": {},
   "source": [
    "El análisis exploratorio de datos (EDA) es un enfoque para analizar conjuntos de datos para resumir sus principales características, normalmente con métodos visuales.  El objetivo principal es visualizar lo que los datos nos pueden decir, más allá de un modelado formal o comprobar una hipótesis. "
   ]
  },
  {
   "cell_type": "markdown",
   "metadata": {},
   "source": [
    "Para realizar el EDA, se puede hacer uso de la biblioteca *matplotlib*, entonces hay que importarla:"
   ]
  },
  {
   "cell_type": "code",
   "execution_count": 19,
   "metadata": {},
   "outputs": [],
   "source": [
    "import matplotlib.pyplot as plt"
   ]
  },
  {
   "cell_type": "markdown",
   "metadata": {},
   "source": [
    "Analicemos el comportamiento de la cantidad de jugadores por temporada. Primero obtengo un DataSet donde una columna corresponde al año y otra columna a la cantidad de jugadores que participaron ese año, por medio del uso de los comandos <code class=\"markup--code markup--p-code\">groupby</code>, <code class=\"markup--code markup--p-code\">size</code> y <code class=\"markup--code markup--p-code\">reset_index</code>"
   ]
  },
  {
   "cell_type": "code",
   "execution_count": 20,
   "metadata": {},
   "outputs": [],
   "source": [
    "playersByYear=df.groupby(['Year']).size().reset_index(name='# Players')"
   ]
  },
  {
   "cell_type": "markdown",
   "metadata": {},
   "source": [
    "Ahora podemos ver el comportamiento por medio de un gráfico de barras:"
   ]
  },
  {
   "cell_type": "code",
   "execution_count": 21,
   "metadata": {},
   "outputs": [
    {
     "data": {
      "text/plain": [
       "Text(0.5, 1.0, '# Of Players per Year')"
      ]
     },
     "execution_count": 21,
     "metadata": {},
     "output_type": "execute_result"
    },
    {
     "data": {
      "image/png": "[encoded data removed]",
      "text/plain": [
       "<Figure size 432x288 with 1 Axes>"
      ]
     },
     "metadata": {
      "needs_background": "light"
     },
     "output_type": "display_data"
    }
   ],
   "source": [
    "plt.bar(playersByYear['Year'],playersByYear['# Players'])\n",
    "plt.ylabel('# of Players')\n",
    "plt.xlabel('Year')\n",
    "plt.title('# Of Players per Year')"
   ]
  },
  {
   "cell_type": "markdown",
   "metadata": {},
   "source": [
    "Es interesante ver cómo ha aumentado el número de jugadores en la NBA, especialmente a partir de la década de los 70."
   ]
  },
  {
   "cell_type": "markdown",
   "metadata": {},
   "source": [
    "¿Cuáles son los 10 jugadores con más puntos entre 1950 y 2017 y en cuantos juegos anotaron esos puntos?"
   ]
  },
  {
   "cell_type": "code",
   "execution_count": 22,
   "metadata": {},
   "outputs": [],
   "source": [
    "pointsPerPlayer=df.groupby('Player',as_index=False).agg({'Points':'sum','Games':'sum'}).sort_values(by='Points',ascending=True).tail(10)"
   ]
  },
  {
   "cell_type": "code",
   "execution_count": 23,
   "metadata": {},
   "outputs": [
    {
     "data": {
      "image/png": "[encoded data removed]",
      "text/plain": [
       "<Figure size 432x288 with 2 Axes>"
      ]
     },
     "metadata": {
      "needs_background": "light"
     },
     "output_type": "display_data"
    }
   ],
   "source": [
    "import numpy as np\n",
    "ind=np.arange(len(pointsPerPlayer))\n",
    "width=0.4\n",
    "fig,ax1=plt.subplots()\n",
    "color='green'\n",
    "ax1.set_xlabel('Points',color=color)\n",
    "\n",
    "ax1.barh(ind+width,pointsPerPlayer.Points,width,color='green',label='Points')\n",
    "ax1.set(yticks=ind + width,yticklabels=pointsPerPlayer.Player, ylim=[2*width - 1, len(pointsPerPlayer)])\n",
    "ax1.tick_params(labelcolor=color)\n",
    "\n",
    "ax2=ax1.twiny()\n",
    "color='red'\n",
    "ax2.set_xlabel('Games',color=color)\n",
    "ax2.barh(ind,pointsPerPlayer.Games,width,color='red',label='Games')\n",
    "ax2.tick_params(labelcolor=color)\n",
    "plt.show()"
   ]
  },
  {
   "cell_type": "markdown",
   "metadata": {},
   "source": [
    "Michael Jordan es considerado por muchos el mejor jugador de baloncesto de la historia. Veamos sus estadísticas a través de los años:"
   ]
  },
  {
   "cell_type": "code",
   "execution_count": 24,
   "metadata": {},
   "outputs": [
    {
     "data": {
      "text/html": [
       "<div>\n",
       "<style scoped>\n",
       "    .dataframe tbody tr th:only-of-type {\n",
       "        vertical-align: middle;\n",
       "    }\n",
       "\n",
       "    .dataframe tbody tr th {\n",
       "        vertical-align: top;\n",
       "    }\n",
       "\n",
       "    .dataframe thead th {\n",
       "        text-align: right;\n",
       "    }\n",
       "</style>\n",
       "<table border=\"1\" class=\"dataframe\">\n",
       "  <thead>\n",
       "    <tr style=\"text-align: right;\">\n",
       "      <th></th>\n",
       "      <th>Year</th>\n",
       "      <th>Player</th>\n",
       "      <th>Age</th>\n",
       "      <th>Position</th>\n",
       "      <th>Games</th>\n",
       "      <th>Points</th>\n",
       "      <th>Rebounds</th>\n",
       "      <th>Assists</th>\n",
       "    </tr>\n",
       "  </thead>\n",
       "  <tbody>\n",
       "    <tr>\n",
       "      <th>7716</th>\n",
       "      <td>1985</td>\n",
       "      <td>Michael Jordan*</td>\n",
       "      <td>21</td>\n",
       "      <td>SG</td>\n",
       "      <td>82</td>\n",
       "      <td>2313</td>\n",
       "      <td>534</td>\n",
       "      <td>481</td>\n",
       "    </tr>\n",
       "    <tr>\n",
       "      <th>8094</th>\n",
       "      <td>1986</td>\n",
       "      <td>Michael Jordan*</td>\n",
       "      <td>22</td>\n",
       "      <td>SG</td>\n",
       "      <td>18</td>\n",
       "      <td>408</td>\n",
       "      <td>64</td>\n",
       "      <td>53</td>\n",
       "    </tr>\n",
       "    <tr>\n",
       "      <th>8469</th>\n",
       "      <td>1987</td>\n",
       "      <td>Michael Jordan*</td>\n",
       "      <td>23</td>\n",
       "      <td>SG</td>\n",
       "      <td>82</td>\n",
       "      <td>3041</td>\n",
       "      <td>430</td>\n",
       "      <td>377</td>\n",
       "    </tr>\n",
       "    <tr>\n",
       "      <th>8869</th>\n",
       "      <td>1988</td>\n",
       "      <td>Michael Jordan*</td>\n",
       "      <td>24</td>\n",
       "      <td>SG</td>\n",
       "      <td>82</td>\n",
       "      <td>2868</td>\n",
       "      <td>449</td>\n",
       "      <td>485</td>\n",
       "    </tr>\n",
       "    <tr>\n",
       "      <th>9297</th>\n",
       "      <td>1989</td>\n",
       "      <td>Michael Jordan*</td>\n",
       "      <td>25</td>\n",
       "      <td>SG</td>\n",
       "      <td>81</td>\n",
       "      <td>2633</td>\n",
       "      <td>652</td>\n",
       "      <td>650</td>\n",
       "    </tr>\n",
       "    <tr>\n",
       "      <th>9747</th>\n",
       "      <td>1990</td>\n",
       "      <td>Michael Jordan*</td>\n",
       "      <td>26</td>\n",
       "      <td>SG</td>\n",
       "      <td>82</td>\n",
       "      <td>2753</td>\n",
       "      <td>565</td>\n",
       "      <td>519</td>\n",
       "    </tr>\n",
       "    <tr>\n",
       "      <th>10212</th>\n",
       "      <td>1991</td>\n",
       "      <td>Michael Jordan*</td>\n",
       "      <td>27</td>\n",
       "      <td>SG</td>\n",
       "      <td>82</td>\n",
       "      <td>2580</td>\n",
       "      <td>492</td>\n",
       "      <td>453</td>\n",
       "    </tr>\n",
       "    <tr>\n",
       "      <th>10666</th>\n",
       "      <td>1992</td>\n",
       "      <td>Michael Jordan*</td>\n",
       "      <td>28</td>\n",
       "      <td>SG</td>\n",
       "      <td>80</td>\n",
       "      <td>2404</td>\n",
       "      <td>511</td>\n",
       "      <td>489</td>\n",
       "    </tr>\n",
       "    <tr>\n",
       "      <th>11106</th>\n",
       "      <td>1993</td>\n",
       "      <td>Michael Jordan*</td>\n",
       "      <td>29</td>\n",
       "      <td>SG</td>\n",
       "      <td>78</td>\n",
       "      <td>2541</td>\n",
       "      <td>522</td>\n",
       "      <td>428</td>\n",
       "    </tr>\n",
       "    <tr>\n",
       "      <th>12048</th>\n",
       "      <td>1995</td>\n",
       "      <td>Michael Jordan*</td>\n",
       "      <td>31</td>\n",
       "      <td>SG</td>\n",
       "      <td>17</td>\n",
       "      <td>457</td>\n",
       "      <td>117</td>\n",
       "      <td>90</td>\n",
       "    </tr>\n",
       "    <tr>\n",
       "      <th>12528</th>\n",
       "      <td>1996</td>\n",
       "      <td>Michael Jordan*</td>\n",
       "      <td>32</td>\n",
       "      <td>SG</td>\n",
       "      <td>82</td>\n",
       "      <td>2491</td>\n",
       "      <td>543</td>\n",
       "      <td>352</td>\n",
       "    </tr>\n",
       "    <tr>\n",
       "      <th>13096</th>\n",
       "      <td>1997</td>\n",
       "      <td>Michael Jordan*</td>\n",
       "      <td>33</td>\n",
       "      <td>SG</td>\n",
       "      <td>82</td>\n",
       "      <td>2431</td>\n",
       "      <td>482</td>\n",
       "      <td>352</td>\n",
       "    </tr>\n",
       "    <tr>\n",
       "      <th>13654</th>\n",
       "      <td>1998</td>\n",
       "      <td>Michael Jordan*</td>\n",
       "      <td>34</td>\n",
       "      <td>SG</td>\n",
       "      <td>82</td>\n",
       "      <td>2357</td>\n",
       "      <td>475</td>\n",
       "      <td>283</td>\n",
       "    </tr>\n",
       "    <tr>\n",
       "      <th>15751</th>\n",
       "      <td>2002</td>\n",
       "      <td>Michael Jordan*</td>\n",
       "      <td>38</td>\n",
       "      <td>SF</td>\n",
       "      <td>60</td>\n",
       "      <td>1375</td>\n",
       "      <td>339</td>\n",
       "      <td>310</td>\n",
       "    </tr>\n",
       "    <tr>\n",
       "      <th>16240</th>\n",
       "      <td>2003</td>\n",
       "      <td>Michael Jordan*</td>\n",
       "      <td>39</td>\n",
       "      <td>SF</td>\n",
       "      <td>82</td>\n",
       "      <td>1640</td>\n",
       "      <td>497</td>\n",
       "      <td>311</td>\n",
       "    </tr>\n",
       "  </tbody>\n",
       "</table>\n",
       "</div>"
      ],
      "text/plain": [
       "       Year           Player  Age Position  Games  Points  Rebounds  Assists\n",
       "7716   1985  Michael Jordan*   21       SG     82    2313       534      481\n",
       "8094   1986  Michael Jordan*   22       SG     18     408        64       53\n",
       "8469   1987  Michael Jordan*   23       SG     82    3041       430      377\n",
       "8869   1988  Michael Jordan*   24       SG     82    2868       449      485\n",
       "9297   1989  Michael Jordan*   25       SG     81    2633       652      650\n",
       "9747   1990  Michael Jordan*   26       SG     82    2753       565      519\n",
       "10212  1991  Michael Jordan*   27       SG     82    2580       492      453\n",
       "10666  1992  Michael Jordan*   28       SG     80    2404       511      489\n",
       "11106  1993  Michael Jordan*   29       SG     78    2541       522      428\n",
       "12048  1995  Michael Jordan*   31       SG     17     457       117       90\n",
       "12528  1996  Michael Jordan*   32       SG     82    2491       543      352\n",
       "13096  1997  Michael Jordan*   33       SG     82    2431       482      352\n",
       "13654  1998  Michael Jordan*   34       SG     82    2357       475      283\n",
       "15751  2002  Michael Jordan*   38       SF     60    1375       339      310\n",
       "16240  2003  Michael Jordan*   39       SF     82    1640       497      311"
      ]
     },
     "execution_count": 24,
     "metadata": {},
     "output_type": "execute_result"
    }
   ],
   "source": [
    "mjdf=df[df.Player == 'Michael Jordan*']\n",
    "mjdf"
   ]
  },
  {
   "cell_type": "markdown",
   "metadata": {},
   "source": [
    "Calculemos sus puntos, rebotes y asistencias por partido para cada temporada:"
   ]
  },
  {
   "cell_type": "code",
   "execution_count": 25,
   "metadata": {},
   "outputs": [
    {
     "data": {
      "text/html": [
       "<div>\n",
       "<style scoped>\n",
       "    .dataframe tbody tr th:only-of-type {\n",
       "        vertical-align: middle;\n",
       "    }\n",
       "\n",
       "    .dataframe tbody tr th {\n",
       "        vertical-align: top;\n",
       "    }\n",
       "\n",
       "    .dataframe thead th {\n",
       "        text-align: right;\n",
       "    }\n",
       "</style>\n",
       "<table border=\"1\" class=\"dataframe\">\n",
       "  <thead>\n",
       "    <tr style=\"text-align: right;\">\n",
       "      <th></th>\n",
       "      <th>Year</th>\n",
       "      <th>Player</th>\n",
       "      <th>Age</th>\n",
       "      <th>Position</th>\n",
       "      <th>Games</th>\n",
       "      <th>Points</th>\n",
       "      <th>Rebounds</th>\n",
       "      <th>Assists</th>\n",
       "      <th>PPG</th>\n",
       "      <th>RPG</th>\n",
       "      <th>APG</th>\n",
       "    </tr>\n",
       "  </thead>\n",
       "  <tbody>\n",
       "    <tr>\n",
       "      <th>7716</th>\n",
       "      <td>1985</td>\n",
       "      <td>Michael Jordan*</td>\n",
       "      <td>21</td>\n",
       "      <td>SG</td>\n",
       "      <td>82</td>\n",
       "      <td>2313</td>\n",
       "      <td>534</td>\n",
       "      <td>481</td>\n",
       "      <td>28.207317</td>\n",
       "      <td>6.512195</td>\n",
       "      <td>5.865854</td>\n",
       "    </tr>\n",
       "    <tr>\n",
       "      <th>8094</th>\n",
       "      <td>1986</td>\n",
       "      <td>Michael Jordan*</td>\n",
       "      <td>22</td>\n",
       "      <td>SG</td>\n",
       "      <td>18</td>\n",
       "      <td>408</td>\n",
       "      <td>64</td>\n",
       "      <td>53</td>\n",
       "      <td>22.666667</td>\n",
       "      <td>3.555556</td>\n",
       "      <td>2.944444</td>\n",
       "    </tr>\n",
       "    <tr>\n",
       "      <th>8469</th>\n",
       "      <td>1987</td>\n",
       "      <td>Michael Jordan*</td>\n",
       "      <td>23</td>\n",
       "      <td>SG</td>\n",
       "      <td>82</td>\n",
       "      <td>3041</td>\n",
       "      <td>430</td>\n",
       "      <td>377</td>\n",
       "      <td>37.085366</td>\n",
       "      <td>5.243902</td>\n",
       "      <td>4.597561</td>\n",
       "    </tr>\n",
       "    <tr>\n",
       "      <th>8869</th>\n",
       "      <td>1988</td>\n",
       "      <td>Michael Jordan*</td>\n",
       "      <td>24</td>\n",
       "      <td>SG</td>\n",
       "      <td>82</td>\n",
       "      <td>2868</td>\n",
       "      <td>449</td>\n",
       "      <td>485</td>\n",
       "      <td>34.975610</td>\n",
       "      <td>5.475610</td>\n",
       "      <td>5.914634</td>\n",
       "    </tr>\n",
       "    <tr>\n",
       "      <th>9297</th>\n",
       "      <td>1989</td>\n",
       "      <td>Michael Jordan*</td>\n",
       "      <td>25</td>\n",
       "      <td>SG</td>\n",
       "      <td>81</td>\n",
       "      <td>2633</td>\n",
       "      <td>652</td>\n",
       "      <td>650</td>\n",
       "      <td>32.506173</td>\n",
       "      <td>8.049383</td>\n",
       "      <td>8.024691</td>\n",
       "    </tr>\n",
       "    <tr>\n",
       "      <th>9747</th>\n",
       "      <td>1990</td>\n",
       "      <td>Michael Jordan*</td>\n",
       "      <td>26</td>\n",
       "      <td>SG</td>\n",
       "      <td>82</td>\n",
       "      <td>2753</td>\n",
       "      <td>565</td>\n",
       "      <td>519</td>\n",
       "      <td>33.573171</td>\n",
       "      <td>6.890244</td>\n",
       "      <td>6.329268</td>\n",
       "    </tr>\n",
       "    <tr>\n",
       "      <th>10212</th>\n",
       "      <td>1991</td>\n",
       "      <td>Michael Jordan*</td>\n",
       "      <td>27</td>\n",
       "      <td>SG</td>\n",
       "      <td>82</td>\n",
       "      <td>2580</td>\n",
       "      <td>492</td>\n",
       "      <td>453</td>\n",
       "      <td>31.463415</td>\n",
       "      <td>6.000000</td>\n",
       "      <td>5.524390</td>\n",
       "    </tr>\n",
       "    <tr>\n",
       "      <th>10666</th>\n",
       "      <td>1992</td>\n",
       "      <td>Michael Jordan*</td>\n",
       "      <td>28</td>\n",
       "      <td>SG</td>\n",
       "      <td>80</td>\n",
       "      <td>2404</td>\n",
       "      <td>511</td>\n",
       "      <td>489</td>\n",
       "      <td>30.050000</td>\n",
       "      <td>6.387500</td>\n",
       "      <td>6.112500</td>\n",
       "    </tr>\n",
       "    <tr>\n",
       "      <th>11106</th>\n",
       "      <td>1993</td>\n",
       "      <td>Michael Jordan*</td>\n",
       "      <td>29</td>\n",
       "      <td>SG</td>\n",
       "      <td>78</td>\n",
       "      <td>2541</td>\n",
       "      <td>522</td>\n",
       "      <td>428</td>\n",
       "      <td>32.576923</td>\n",
       "      <td>6.692308</td>\n",
       "      <td>5.487179</td>\n",
       "    </tr>\n",
       "    <tr>\n",
       "      <th>12048</th>\n",
       "      <td>1995</td>\n",
       "      <td>Michael Jordan*</td>\n",
       "      <td>31</td>\n",
       "      <td>SG</td>\n",
       "      <td>17</td>\n",
       "      <td>457</td>\n",
       "      <td>117</td>\n",
       "      <td>90</td>\n",
       "      <td>26.882353</td>\n",
       "      <td>6.882353</td>\n",
       "      <td>5.294118</td>\n",
       "    </tr>\n",
       "    <tr>\n",
       "      <th>12528</th>\n",
       "      <td>1996</td>\n",
       "      <td>Michael Jordan*</td>\n",
       "      <td>32</td>\n",
       "      <td>SG</td>\n",
       "      <td>82</td>\n",
       "      <td>2491</td>\n",
       "      <td>543</td>\n",
       "      <td>352</td>\n",
       "      <td>30.378049</td>\n",
       "      <td>6.621951</td>\n",
       "      <td>4.292683</td>\n",
       "    </tr>\n",
       "    <tr>\n",
       "      <th>13096</th>\n",
       "      <td>1997</td>\n",
       "      <td>Michael Jordan*</td>\n",
       "      <td>33</td>\n",
       "      <td>SG</td>\n",
       "      <td>82</td>\n",
       "      <td>2431</td>\n",
       "      <td>482</td>\n",
       "      <td>352</td>\n",
       "      <td>29.646341</td>\n",
       "      <td>5.878049</td>\n",
       "      <td>4.292683</td>\n",
       "    </tr>\n",
       "    <tr>\n",
       "      <th>13654</th>\n",
       "      <td>1998</td>\n",
       "      <td>Michael Jordan*</td>\n",
       "      <td>34</td>\n",
       "      <td>SG</td>\n",
       "      <td>82</td>\n",
       "      <td>2357</td>\n",
       "      <td>475</td>\n",
       "      <td>283</td>\n",
       "      <td>28.743902</td>\n",
       "      <td>5.792683</td>\n",
       "      <td>3.451220</td>\n",
       "    </tr>\n",
       "    <tr>\n",
       "      <th>15751</th>\n",
       "      <td>2002</td>\n",
       "      <td>Michael Jordan*</td>\n",
       "      <td>38</td>\n",
       "      <td>SF</td>\n",
       "      <td>60</td>\n",
       "      <td>1375</td>\n",
       "      <td>339</td>\n",
       "      <td>310</td>\n",
       "      <td>22.916667</td>\n",
       "      <td>5.650000</td>\n",
       "      <td>5.166667</td>\n",
       "    </tr>\n",
       "    <tr>\n",
       "      <th>16240</th>\n",
       "      <td>2003</td>\n",
       "      <td>Michael Jordan*</td>\n",
       "      <td>39</td>\n",
       "      <td>SF</td>\n",
       "      <td>82</td>\n",
       "      <td>1640</td>\n",
       "      <td>497</td>\n",
       "      <td>311</td>\n",
       "      <td>20.000000</td>\n",
       "      <td>6.060976</td>\n",
       "      <td>3.792683</td>\n",
       "    </tr>\n",
       "  </tbody>\n",
       "</table>\n",
       "</div>"
      ],
      "text/plain": [
       "       Year           Player  Age Position  Games  Points  Rebounds  Assists  \\\n",
       "7716   1985  Michael Jordan*   21       SG     82    2313       534      481   \n",
       "8094   1986  Michael Jordan*   22       SG     18     408        64       53   \n",
       "8469   1987  Michael Jordan*   23       SG     82    3041       430      377   \n",
       "8869   1988  Michael Jordan*   24       SG     82    2868       449      485   \n",
       "9297   1989  Michael Jordan*   25       SG     81    2633       652      650   \n",
       "9747   1990  Michael Jordan*   26       SG     82    2753       565      519   \n",
       "10212  1991  Michael Jordan*   27       SG     82    2580       492      453   \n",
       "10666  1992  Michael Jordan*   28       SG     80    2404       511      489   \n",
       "11106  1993  Michael Jordan*   29       SG     78    2541       522      428   \n",
       "12048  1995  Michael Jordan*   31       SG     17     457       117       90   \n",
       "12528  1996  Michael Jordan*   32       SG     82    2491       543      352   \n",
       "13096  1997  Michael Jordan*   33       SG     82    2431       482      352   \n",
       "13654  1998  Michael Jordan*   34       SG     82    2357       475      283   \n",
       "15751  2002  Michael Jordan*   38       SF     60    1375       339      310   \n",
       "16240  2003  Michael Jordan*   39       SF     82    1640       497      311   \n",
       "\n",
       "             PPG       RPG       APG  \n",
       "7716   28.207317  6.512195  5.865854  \n",
       "8094   22.666667  3.555556  2.944444  \n",
       "8469   37.085366  5.243902  4.597561  \n",
       "8869   34.975610  5.475610  5.914634  \n",
       "9297   32.506173  8.049383  8.024691  \n",
       "9747   33.573171  6.890244  6.329268  \n",
       "10212  31.463415  6.000000  5.524390  \n",
       "10666  30.050000  6.387500  6.112500  \n",
       "11106  32.576923  6.692308  5.487179  \n",
       "12048  26.882353  6.882353  5.294118  \n",
       "12528  30.378049  6.621951  4.292683  \n",
       "13096  29.646341  5.878049  4.292683  \n",
       "13654  28.743902  5.792683  3.451220  \n",
       "15751  22.916667  5.650000  5.166667  \n",
       "16240  20.000000  6.060976  3.792683  "
      ]
     },
     "execution_count": 25,
     "metadata": {},
     "output_type": "execute_result"
    }
   ],
   "source": [
    "pd.set_option('mode.chained_assignment', None)\n",
    "mjdf.loc[:,'PPG']=mjdf['Points']/mjdf['Games']\n",
    "mjdf.loc[:,'RPG']=mjdf['Rebounds']/mjdf['Games']\n",
    "mjdf.loc[:,'APG']=mjdf['Assists']/mjdf['Games']\n",
    "mjdf"
   ]
  },
  {
   "cell_type": "markdown",
   "metadata": {},
   "source": [
    "Ahora sí podemos proceder a graficar:"
   ]
  },
  {
   "cell_type": "code",
   "execution_count": 26,
   "metadata": {},
   "outputs": [
    {
     "data": {
      "image/png": "[encoded data removed]",
      "text/plain": [
       "<Figure size 720x576 with 1 Axes>"
      ]
     },
     "metadata": {
      "needs_background": "light"
     },
     "output_type": "display_data"
    }
   ],
   "source": [
    "fig, ax1 = plt.subplots(1,figsize=(10,8))\n",
    "\n",
    "plt.plot(mjdf['Year'],mjdf['PPG'])\n",
    "plt.plot(mjdf['Year'],mjdf['RPG'])\n",
    "plt.plot(mjdf['Year'],mjdf['APG'])\n",
    "plt.xticks(range(mjdf['Year'].min(),mjdf['Year'].max()),rotation=90)\n",
    "plt.legend(['PPG','RPG','APG'], loc='upper right',prop={'size': 20})\n",
    "plt.title('Michael Jordan Career Stats')\n",
    "# Show the grid lines as dark grey lines\n",
    "plt.grid(b=True, which='major', color='#666666', linestyle='-')\n",
    "plt.show()"
   ]
  }
 ],
 "metadata": {
  "kernelspec": {
   "display_name": "Python 3",
   "language": "python",
   "name": "python3"
  },
  "language_info": {
   "codemirror_mode": {
    "name": "ipython",
    "version": 3
   },
   "file_extension": ".py",
   "mimetype": "text/x-python",
   "name": "python",
   "nbconvert_exporter": "python",
   "pygments_lexer": "ipython3",
   "version": "3.7.3"
  }
 },
 "nbformat": 4,
 "nbformat_minor": 2
}
